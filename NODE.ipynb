{
  "nbformat": 4,
  "nbformat_minor": 0,
  "metadata": {
    "colab": {
      "name": "NODE.ipynb",
      "version": "0.3.2",
      "provenance": []
    },
    "kernelspec": {
      "name": "python3",
      "display_name": "Python 3"
    },
    "accelerator": "GPU"
  },
  "cells": [
    {
      "metadata": {
        "id": "6qx4BxFaeyWO",
        "colab_type": "code",
        "colab": {
          "base_uri": "https://localhost:8080/",
          "height": 34
        },
        "outputId": "49c4c204-387b-4c68-cbb2-945e670118dd"
      },
      "cell_type": "code",
      "source": [
        "!pwd"
      ],
      "execution_count": 1,
      "outputs": [
        {
          "output_type": "stream",
          "text": [
            "/content\n"
          ],
          "name": "stdout"
        }
      ]
    },
    {
      "metadata": {
        "id": "V3FzZ5dRe5zI",
        "colab_type": "code",
        "colab": {
          "base_uri": "https://localhost:8080/",
          "height": 102
        },
        "outputId": "3fe92311-6171-44df-dc0a-3ae20ea261fa"
      },
      "cell_type": "code",
      "source": [
        "!git clone https://github.com/rtqichen/torchdiffeq.git"
      ],
      "execution_count": 4,
      "outputs": [
        {
          "output_type": "stream",
          "text": [
            "Cloning into 'torchdiffeq'...\n",
            "remote: Enumerating objects: 124, done.\u001b[K\n",
            "remote: Total 124 (delta 0), reused 0 (delta 0), pack-reused 124\u001b[K\n",
            "Receiving objects: 100% (124/124), 683.91 KiB | 11.79 MiB/s, done.\n",
            "Resolving deltas: 100% (49/49), done.\n"
          ],
          "name": "stdout"
        }
      ]
    },
    {
      "metadata": {
        "id": "ReazH0C4e-9u",
        "colab_type": "code",
        "colab": {
          "base_uri": "https://localhost:8080/",
          "height": 34
        },
        "outputId": "0b31eab8-a965-4b75-faa2-ae80404bac47"
      },
      "cell_type": "code",
      "source": [
        "cd torchdiffeq/"
      ],
      "execution_count": 5,
      "outputs": [
        {
          "output_type": "stream",
          "text": [
            "/content/torchdiffeq\n"
          ],
          "name": "stdout"
        }
      ]
    },
    {
      "metadata": {
        "id": "Fsl3NHHUfBd5",
        "colab_type": "code",
        "colab": {
          "base_uri": "https://localhost:8080/",
          "height": 130
        },
        "outputId": "4c6c5904-97b4-4d17-e9ba-f86c953408e1"
      },
      "cell_type": "code",
      "source": [
        "pip install -e ."
      ],
      "execution_count": 4,
      "outputs": [
        {
          "output_type": "error",
          "ename": "SyntaxError",
          "evalue": "ignored",
          "traceback": [
            "\u001b[0;36m  File \u001b[0;32m\"<ipython-input-4-bde9a2aeef78>\"\u001b[0;36m, line \u001b[0;32m1\u001b[0m\n\u001b[0;31m    pip install -e .\u001b[0m\n\u001b[0m              ^\u001b[0m\n\u001b[0;31mSyntaxError\u001b[0m\u001b[0;31m:\u001b[0m invalid syntax\n"
          ]
        }
      ]
    },
    {
      "metadata": {
        "id": "HtBEd6IwfHD3",
        "colab_type": "code",
        "colab": {
          "base_uri": "https://localhost:8080/",
          "height": 122
        },
        "outputId": "34c9700f-e3c1-4860-bada-a83a83fe5de5"
      },
      "cell_type": "code",
      "source": [
        "!pip install -e ."
      ],
      "execution_count": 6,
      "outputs": [
        {
          "output_type": "stream",
          "text": [
            "Obtaining file:///content/torchdiffeq\n",
            "Requirement already satisfied: torch>=0.4.1 in /usr/local/lib/python3.6/dist-packages (from torchdiffeq==0.0.1) (1.0.1.post2)\n",
            "Installing collected packages: torchdiffeq\n",
            "  Running setup.py develop for torchdiffeq\n",
            "Successfully installed torchdiffeq\n"
          ],
          "name": "stdout"
        }
      ]
    },
    {
      "metadata": {
        "id": "Gg8KA8PGfJP4",
        "colab_type": "code",
        "colab": {
          "base_uri": "https://localhost:8080/",
          "height": 34
        },
        "outputId": "1097cbad-9064-471c-8668-664f2c59f710"
      },
      "cell_type": "code",
      "source": [
        "!python ode_demo.py --viz"
      ],
      "execution_count": 6,
      "outputs": [
        {
          "output_type": "stream",
          "text": [
            "python3: can't open file 'ode_demo.py': [Errno 2] No such file or directory\n"
          ],
          "name": "stdout"
        }
      ]
    },
    {
      "metadata": {
        "id": "zT8Z-YUdfcF-",
        "colab_type": "code",
        "colab": {
          "base_uri": "https://localhost:8080/",
          "height": 51
        },
        "outputId": "fc04cf68-a926-4e28-fdf9-29ad2ebf4d64"
      },
      "cell_type": "code",
      "source": [
        "!ls"
      ],
      "execution_count": 7,
      "outputs": [
        {
          "output_type": "stream",
          "text": [
            "assets\t  LICENSE    setup.py  torchdiffeq\n",
            "examples  README.md  tests     torchdiffeq.egg-info\n"
          ],
          "name": "stdout"
        }
      ]
    },
    {
      "metadata": {
        "id": "TFu5rwBOfd-1",
        "colab_type": "code",
        "colab": {
          "base_uri": "https://localhost:8080/",
          "height": 34
        },
        "outputId": "391a353c-d533-443b-c922-69ddd4ed347d"
      },
      "cell_type": "code",
      "source": [
        "cd examples/"
      ],
      "execution_count": 7,
      "outputs": [
        {
          "output_type": "stream",
          "text": [
            "/content/torchdiffeq/examples\n"
          ],
          "name": "stdout"
        }
      ]
    },
    {
      "metadata": {
        "id": "YaRV0xrUfgCH",
        "colab_type": "code",
        "colab": {
          "base_uri": "https://localhost:8080/",
          "height": 34
        },
        "outputId": "db55ed8a-9305-4ae9-afde-28559efd506c"
      },
      "cell_type": "code",
      "source": [
        "!ls"
      ],
      "execution_count": 9,
      "outputs": [
        {
          "output_type": "stream",
          "text": [
            "latent_ode.py  ode_demo.py  odenet_mnist.py  README.md\n"
          ],
          "name": "stdout"
        }
      ]
    },
    {
      "metadata": {
        "id": "_jLg7OLmfha2",
        "colab_type": "code",
        "colab": {
          "base_uri": "https://localhost:8080/",
          "height": 130
        },
        "outputId": "493d8359-94da-47b4-ef80-b3cba846aabd"
      },
      "cell_type": "code",
      "source": [
        "python ode_demo.py --viz"
      ],
      "execution_count": 10,
      "outputs": [
        {
          "output_type": "error",
          "ename": "SyntaxError",
          "evalue": "ignored",
          "traceback": [
            "\u001b[0;36m  File \u001b[0;32m\"<ipython-input-10-3013bd08c29b>\"\u001b[0;36m, line \u001b[0;32m1\u001b[0m\n\u001b[0;31m    python ode_demo.py --viz\u001b[0m\n\u001b[0m                  ^\u001b[0m\n\u001b[0;31mSyntaxError\u001b[0m\u001b[0;31m:\u001b[0m invalid syntax\n"
          ]
        }
      ]
    },
    {
      "metadata": {
        "id": "2NvbMs95fjBO",
        "colab_type": "code",
        "colab": {
          "base_uri": "https://localhost:8080/",
          "height": 34
        },
        "outputId": "61ad358f-f93f-4c79-fe9e-de5bbb229acf"
      },
      "cell_type": "code",
      "source": [
        "!python ode_demo.py --niters=10 --data_size=100 --viz"
      ],
      "execution_count": 15,
      "outputs": [
        {
          "output_type": "stream",
          "text": [
            "<Figure size 1200x400 with 3 Axes>\n"
          ],
          "name": "stdout"
        }
      ]
    },
    {
      "metadata": {
        "id": "L5rI_hkxfkWd",
        "colab_type": "code",
        "colab": {
          "base_uri": "https://localhost:8080/",
          "height": 7415
        },
        "outputId": "dffa4c2e-10e6-41a0-9dde-a5279fa7213b"
      },
      "cell_type": "code",
      "source": [
        "!python odenet_mnist.py --nepochs=10"
      ],
      "execution_count": 9,
      "outputs": [
        {
          "output_type": "stream",
          "text": [
            "/content/torchdiffeq/examples/odenet_mnist.py\n",
            "import os\n",
            "import argparse\n",
            "import logging\n",
            "import time\n",
            "import numpy as np\n",
            "import torch\n",
            "import torch.nn as nn\n",
            "from torch.utils.data import DataLoader\n",
            "import torchvision.datasets as datasets\n",
            "import torchvision.transforms as transforms\n",
            "\n",
            "parser = argparse.ArgumentParser()\n",
            "parser.add_argument('--network', type=str, choices=['resnet', 'odenet'], default='odenet')\n",
            "parser.add_argument('--tol', type=float, default=1e-3)\n",
            "parser.add_argument('--adjoint', type=eval, default=False, choices=[True, False])\n",
            "parser.add_argument('--downsampling-method', type=str, default='conv', choices=['conv', 'res'])\n",
            "parser.add_argument('--nepochs', type=int, default=160)\n",
            "parser.add_argument('--data_aug', type=eval, default=True, choices=[True, False])\n",
            "parser.add_argument('--lr', type=float, default=0.1)\n",
            "parser.add_argument('--batch_size', type=int, default=128)\n",
            "parser.add_argument('--test_batch_size', type=int, default=1000)\n",
            "\n",
            "parser.add_argument('--save', type=str, default='./experiment1')\n",
            "parser.add_argument('--debug', action='store_true')\n",
            "parser.add_argument('--gpu', type=int, default=0)\n",
            "args = parser.parse_args()\n",
            "\n",
            "if args.adjoint:\n",
            "    from torchdiffeq import odeint_adjoint as odeint\n",
            "else:\n",
            "    from torchdiffeq import odeint\n",
            "\n",
            "\n",
            "def conv3x3(in_planes, out_planes, stride=1):\n",
            "    \"\"\"3x3 convolution with padding\"\"\"\n",
            "    return nn.Conv2d(in_planes, out_planes, kernel_size=3, stride=stride, padding=1, bias=False)\n",
            "\n",
            "\n",
            "def conv1x1(in_planes, out_planes, stride=1):\n",
            "    \"\"\"1x1 convolution\"\"\"\n",
            "    return nn.Conv2d(in_planes, out_planes, kernel_size=1, stride=stride, bias=False)\n",
            "\n",
            "\n",
            "def norm(dim):\n",
            "    return nn.GroupNorm(min(32, dim), dim)\n",
            "\n",
            "\n",
            "class ResBlock(nn.Module):\n",
            "    expansion = 1\n",
            "\n",
            "    def __init__(self, inplanes, planes, stride=1, downsample=None):\n",
            "        super(ResBlock, self).__init__()\n",
            "        self.norm1 = norm(inplanes)\n",
            "        self.relu = nn.ReLU(inplace=True)\n",
            "        self.downsample = downsample\n",
            "        self.conv1 = conv3x3(inplanes, planes, stride)\n",
            "        self.norm2 = norm(planes)\n",
            "        self.conv2 = conv3x3(planes, planes)\n",
            "\n",
            "    def forward(self, x):\n",
            "        shortcut = x\n",
            "\n",
            "        out = self.relu(self.norm1(x))\n",
            "\n",
            "        if self.downsample is not None:\n",
            "            shortcut = self.downsample(out)\n",
            "\n",
            "        out = self.conv1(out)\n",
            "        out = self.norm2(out)\n",
            "        out = self.relu(out)\n",
            "        out = self.conv2(out)\n",
            "\n",
            "        return out + shortcut\n",
            "\n",
            "\n",
            "class ConcatConv2d(nn.Module):\n",
            "\n",
            "    def __init__(self, dim_in, dim_out, ksize=3, stride=1, padding=0, dilation=1, groups=1, bias=True, transpose=False):\n",
            "        super(ConcatConv2d, self).__init__()\n",
            "        module = nn.ConvTranspose2d if transpose else nn.Conv2d\n",
            "        self._layer = module(\n",
            "            dim_in + 1, dim_out, kernel_size=ksize, stride=stride, padding=padding, dilation=dilation, groups=groups,\n",
            "            bias=bias\n",
            "        )\n",
            "\n",
            "    def forward(self, t, x):\n",
            "        tt = torch.ones_like(x[:, :1, :, :]) * t\n",
            "        ttx = torch.cat([tt, x], 1)\n",
            "        return self._layer(ttx)\n",
            "\n",
            "\n",
            "class ODEfunc(nn.Module):\n",
            "\n",
            "    def __init__(self, dim):\n",
            "        super(ODEfunc, self).__init__()\n",
            "        self.norm1 = norm(dim)\n",
            "        self.relu = nn.ReLU(inplace=True)\n",
            "        self.conv1 = ConcatConv2d(dim, dim, 3, 1, 1)\n",
            "        self.norm2 = norm(dim)\n",
            "        self.conv2 = ConcatConv2d(dim, dim, 3, 1, 1)\n",
            "        self.norm3 = norm(dim)\n",
            "        self.nfe = 0\n",
            "\n",
            "    def forward(self, t, x):\n",
            "        self.nfe += 1\n",
            "        out = self.norm1(x)\n",
            "        out = self.relu(out)\n",
            "        out = self.conv1(t, out)\n",
            "        out = self.norm2(out)\n",
            "        out = self.relu(out)\n",
            "        out = self.conv2(t, out)\n",
            "        out = self.norm3(out)\n",
            "        return out\n",
            "\n",
            "\n",
            "class ODEBlock(nn.Module):\n",
            "\n",
            "    def __init__(self, odefunc):\n",
            "        super(ODEBlock, self).__init__()\n",
            "        self.odefunc = odefunc\n",
            "        self.integration_time = torch.tensor([0, 1]).float()\n",
            "\n",
            "    def forward(self, x):\n",
            "        self.integration_time = self.integration_time.type_as(x)\n",
            "        out = odeint(self.odefunc, x, self.integration_time, rtol=args.tol, atol=args.tol)\n",
            "        return out[1]\n",
            "\n",
            "    @property\n",
            "    def nfe(self):\n",
            "        return self.odefunc.nfe\n",
            "\n",
            "    @nfe.setter\n",
            "    def nfe(self, value):\n",
            "        self.odefunc.nfe = value\n",
            "\n",
            "\n",
            "class Flatten(nn.Module):\n",
            "\n",
            "    def __init__(self):\n",
            "        super(Flatten, self).__init__()\n",
            "\n",
            "    def forward(self, x):\n",
            "        shape = torch.prod(torch.tensor(x.shape[1:])).item()\n",
            "        return x.view(-1, shape)\n",
            "\n",
            "\n",
            "class RunningAverageMeter(object):\n",
            "    \"\"\"Computes and stores the average and current value\"\"\"\n",
            "\n",
            "    def __init__(self, momentum=0.99):\n",
            "        self.momentum = momentum\n",
            "        self.reset()\n",
            "\n",
            "    def reset(self):\n",
            "        self.val = None\n",
            "        self.avg = 0\n",
            "\n",
            "    def update(self, val):\n",
            "        if self.val is None:\n",
            "            self.avg = val\n",
            "        else:\n",
            "            self.avg = self.avg * self.momentum + val * (1 - self.momentum)\n",
            "        self.val = val\n",
            "\n",
            "\n",
            "def get_mnist_loaders(data_aug=False, batch_size=128, test_batch_size=1000, perc=1.0):\n",
            "    if data_aug:\n",
            "        transform_train = transforms.Compose([\n",
            "            transforms.RandomCrop(28, padding=4),\n",
            "            transforms.ToTensor(),\n",
            "        ])\n",
            "    else:\n",
            "        transform_train = transforms.Compose([\n",
            "            transforms.ToTensor(),\n",
            "        ])\n",
            "\n",
            "    transform_test = transforms.Compose([\n",
            "        transforms.ToTensor(),\n",
            "    ])\n",
            "\n",
            "    train_loader = DataLoader(\n",
            "        datasets.MNIST(root='.data/mnist', train=True, download=True, transform=transform_train), batch_size=batch_size,\n",
            "        shuffle=True, num_workers=2, drop_last=True\n",
            "    )\n",
            "\n",
            "    train_eval_loader = DataLoader(\n",
            "        datasets.MNIST(root='.data/mnist', train=True, download=True, transform=transform_test),\n",
            "        batch_size=test_batch_size, shuffle=False, num_workers=2, drop_last=True\n",
            "    )\n",
            "\n",
            "    test_loader = DataLoader(\n",
            "        datasets.MNIST(root='.data/mnist', train=False, download=True, transform=transform_test),\n",
            "        batch_size=test_batch_size, shuffle=False, num_workers=2, drop_last=True\n",
            "    )\n",
            "\n",
            "    return train_loader, test_loader, train_eval_loader\n",
            "\n",
            "\n",
            "def inf_generator(iterable):\n",
            "    \"\"\"Allows training with DataLoaders in a single infinite loop:\n",
            "        for i, (x, y) in enumerate(inf_generator(train_loader)):\n",
            "    \"\"\"\n",
            "    iterator = iterable.__iter__()\n",
            "    while True:\n",
            "        try:\n",
            "            yield iterator.__next__()\n",
            "        except StopIteration:\n",
            "            iterator = iterable.__iter__()\n",
            "\n",
            "\n",
            "def learning_rate_with_decay(batch_size, batch_denom, batches_per_epoch, boundary_epochs, decay_rates):\n",
            "    initial_learning_rate = args.lr * batch_size / batch_denom\n",
            "\n",
            "    boundaries = [int(batches_per_epoch * epoch) for epoch in boundary_epochs]\n",
            "    vals = [initial_learning_rate * decay for decay in decay_rates]\n",
            "\n",
            "    def learning_rate_fn(itr):\n",
            "        lt = [itr < b for b in boundaries] + [True]\n",
            "        i = np.argmax(lt)\n",
            "        return vals[i]\n",
            "\n",
            "    return learning_rate_fn\n",
            "\n",
            "\n",
            "def one_hot(x, K):\n",
            "    return np.array(x[:, None] == np.arange(K)[None, :], dtype=int)\n",
            "\n",
            "\n",
            "def accuracy(model, dataset_loader):\n",
            "    total_correct = 0\n",
            "    for x, y in dataset_loader:\n",
            "        x = x.to(device)\n",
            "        y = one_hot(np.array(y.numpy()), 10)\n",
            "\n",
            "        target_class = np.argmax(y, axis=1)\n",
            "        predicted_class = np.argmax(model(x).cpu().detach().numpy(), axis=1)\n",
            "        total_correct += np.sum(predicted_class == target_class)\n",
            "    return total_correct / len(dataset_loader.dataset)\n",
            "\n",
            "\n",
            "def count_parameters(model):\n",
            "    return sum(p.numel() for p in model.parameters() if p.requires_grad)\n",
            "\n",
            "\n",
            "def makedirs(dirname):\n",
            "    if not os.path.exists(dirname):\n",
            "        os.makedirs(dirname)\n",
            "\n",
            "\n",
            "def get_logger(logpath, filepath, package_files=[], displaying=True, saving=True, debug=False):\n",
            "    logger = logging.getLogger()\n",
            "    if debug:\n",
            "        level = logging.DEBUG\n",
            "    else:\n",
            "        level = logging.INFO\n",
            "    logger.setLevel(level)\n",
            "    if saving:\n",
            "        info_file_handler = logging.FileHandler(logpath, mode=\"a\")\n",
            "        info_file_handler.setLevel(level)\n",
            "        logger.addHandler(info_file_handler)\n",
            "    if displaying:\n",
            "        console_handler = logging.StreamHandler()\n",
            "        console_handler.setLevel(level)\n",
            "        logger.addHandler(console_handler)\n",
            "    logger.info(filepath)\n",
            "    with open(filepath, \"r\") as f:\n",
            "        logger.info(f.read())\n",
            "\n",
            "    for f in package_files:\n",
            "        logger.info(f)\n",
            "        with open(f, \"r\") as package_f:\n",
            "            logger.info(package_f.read())\n",
            "\n",
            "    return logger\n",
            "\n",
            "\n",
            "if __name__ == '__main__':\n",
            "\n",
            "    makedirs(args.save)\n",
            "    logger = get_logger(logpath=os.path.join(args.save, 'logs'), filepath=os.path.abspath(__file__))\n",
            "    logger.info(args)\n",
            "\n",
            "    device = torch.device('cuda:' + str(args.gpu) if torch.cuda.is_available() else 'cpu')\n",
            "\n",
            "    is_odenet = args.network == 'odenet'\n",
            "\n",
            "    if args.downsampling_method == 'conv':\n",
            "        downsampling_layers = [\n",
            "            nn.Conv2d(1, 64, 3, 1),\n",
            "            norm(64),\n",
            "            nn.ReLU(inplace=True),\n",
            "            nn.Conv2d(64, 64, 4, 2, 1),\n",
            "            norm(64),\n",
            "            nn.ReLU(inplace=True),\n",
            "            nn.Conv2d(64, 64, 4, 2, 1),\n",
            "        ]\n",
            "    elif args.downsampling_method == 'res':\n",
            "        downsampling_layers = [\n",
            "            nn.Conv2d(1, 64, 3, 1),\n",
            "            ResBlock(64, 64, stride=2, downsample=conv1x1(64, 64, 2)),\n",
            "            ResBlock(64, 64, stride=2, downsample=conv1x1(64, 64, 2)),\n",
            "        ]\n",
            "\n",
            "    feature_layers = [ODEBlock(ODEfunc(64))] if is_odenet else [ResBlock(64, 64) for _ in range(6)]\n",
            "    fc_layers = [norm(64), nn.ReLU(inplace=True), nn.AdaptiveAvgPool2d((1, 1)), Flatten(), nn.Linear(64, 10)]\n",
            "\n",
            "    model = nn.Sequential(*downsampling_layers, *feature_layers, *fc_layers).to(device)\n",
            "\n",
            "    logger.info(model)\n",
            "    logger.info('Number of parameters: {}'.format(count_parameters(model)))\n",
            "\n",
            "    criterion = nn.CrossEntropyLoss().to(device)\n",
            "\n",
            "    train_loader, test_loader, train_eval_loader = get_mnist_loaders(\n",
            "        args.data_aug, args.batch_size, args.test_batch_size\n",
            "    )\n",
            "\n",
            "    data_gen = inf_generator(train_loader)\n",
            "    batches_per_epoch = len(train_loader)\n",
            "\n",
            "    lr_fn = learning_rate_with_decay(\n",
            "        args.batch_size, batch_denom=128, batches_per_epoch=batches_per_epoch, boundary_epochs=[60, 100, 140],\n",
            "        decay_rates=[1, 0.1, 0.01, 0.001]\n",
            "    )\n",
            "\n",
            "    optimizer = torch.optim.SGD(model.parameters(), lr=args.lr, momentum=0.9)\n",
            "\n",
            "    best_acc = 0\n",
            "    batch_time_meter = RunningAverageMeter()\n",
            "    f_nfe_meter = RunningAverageMeter()\n",
            "    b_nfe_meter = RunningAverageMeter()\n",
            "    end = time.time()\n",
            "\n",
            "    for itr in range(args.nepochs * batches_per_epoch):\n",
            "\n",
            "        for param_group in optimizer.param_groups:\n",
            "            param_group['lr'] = lr_fn(itr)\n",
            "\n",
            "        optimizer.zero_grad()\n",
            "        x, y = data_gen.__next__()\n",
            "        x = x.to(device)\n",
            "        y = y.to(device)\n",
            "        logits = model(x)\n",
            "        loss = criterion(logits, y)\n",
            "\n",
            "        if is_odenet:\n",
            "            nfe_forward = feature_layers[0].nfe\n",
            "            feature_layers[0].nfe = 0\n",
            "\n",
            "        loss.backward()\n",
            "        optimizer.step()\n",
            "\n",
            "        if is_odenet:\n",
            "            nfe_backward = feature_layers[0].nfe\n",
            "            feature_layers[0].nfe = 0\n",
            "\n",
            "        batch_time_meter.update(time.time() - end)\n",
            "        if is_odenet:\n",
            "            f_nfe_meter.update(nfe_forward)\n",
            "            b_nfe_meter.update(nfe_backward)\n",
            "        end = time.time()\n",
            "\n",
            "        if itr % batches_per_epoch == 0:\n",
            "            with torch.no_grad():\n",
            "                train_acc = accuracy(model, train_eval_loader)\n",
            "                val_acc = accuracy(model, test_loader)\n",
            "                if val_acc > best_acc:\n",
            "                    torch.save({'state_dict': model.state_dict(), 'args': args}, os.path.join(args.save, 'model.pth'))\n",
            "                    best_acc = val_acc\n",
            "                logger.info(\n",
            "                    \"Epoch {:04d} | Time {:.3f} ({:.3f}) | NFE-F {:.1f} | NFE-B {:.1f} | \"\n",
            "                    \"Train Acc {:.4f} | Test Acc {:.4f}\".format(\n",
            "                        itr // batches_per_epoch, batch_time_meter.val, batch_time_meter.avg, f_nfe_meter.avg,\n",
            "                        b_nfe_meter.avg, train_acc, val_acc\n",
            "                    )\n",
            "                )\n",
            "\n",
            "Namespace(adjoint=False, batch_size=128, data_aug=True, debug=False, downsampling_method='conv', gpu=0, lr=0.1, nepochs=10, network='odenet', save='./experiment1', test_batch_size=1000, tol=0.001)\n",
            "Sequential(\n",
            "  (0): Conv2d(1, 64, kernel_size=(3, 3), stride=(1, 1))\n",
            "  (1): GroupNorm(32, 64, eps=1e-05, affine=True)\n",
            "  (2): ReLU(inplace)\n",
            "  (3): Conv2d(64, 64, kernel_size=(4, 4), stride=(2, 2), padding=(1, 1))\n",
            "  (4): GroupNorm(32, 64, eps=1e-05, affine=True)\n",
            "  (5): ReLU(inplace)\n",
            "  (6): Conv2d(64, 64, kernel_size=(4, 4), stride=(2, 2), padding=(1, 1))\n",
            "  (7): ODEBlock(\n",
            "    (odefunc): ODEfunc(\n",
            "      (norm1): GroupNorm(32, 64, eps=1e-05, affine=True)\n",
            "      (relu): ReLU(inplace)\n",
            "      (conv1): ConcatConv2d(\n",
            "        (_layer): Conv2d(65, 64, kernel_size=(3, 3), stride=(1, 1), padding=(1, 1))\n",
            "      )\n",
            "      (norm2): GroupNorm(32, 64, eps=1e-05, affine=True)\n",
            "      (conv2): ConcatConv2d(\n",
            "        (_layer): Conv2d(65, 64, kernel_size=(3, 3), stride=(1, 1), padding=(1, 1))\n",
            "      )\n",
            "      (norm3): GroupNorm(32, 64, eps=1e-05, affine=True)\n",
            "    )\n",
            "  )\n",
            "  (8): GroupNorm(32, 64, eps=1e-05, affine=True)\n",
            "  (9): ReLU(inplace)\n",
            "  (10): AdaptiveAvgPool2d(output_size=(1, 1))\n",
            "  (11): Flatten()\n",
            "  (12): Linear(in_features=64, out_features=10, bias=True)\n",
            ")\n",
            "Number of parameters: 208266\n",
            "Downloading http://yann.lecun.com/exdb/mnist/train-images-idx3-ubyte.gz to .data/mnist/MNIST/raw/train-images-idx3-ubyte.gz\n",
            "9920512it [00:02, 4525287.03it/s]                 \n",
            "Extracting .data/mnist/MNIST/raw/train-images-idx3-ubyte.gz\n",
            "Downloading http://yann.lecun.com/exdb/mnist/train-labels-idx1-ubyte.gz to .data/mnist/MNIST/raw/train-labels-idx1-ubyte.gz\n",
            "32768it [00:00, 445790.37it/s]\n",
            "Extracting .data/mnist/MNIST/raw/train-labels-idx1-ubyte.gz\n",
            "Downloading http://yann.lecun.com/exdb/mnist/t10k-images-idx3-ubyte.gz to .data/mnist/MNIST/raw/t10k-images-idx3-ubyte.gz\n",
            "1654784it [00:00, 7605027.11it/s]                \n",
            "Extracting .data/mnist/MNIST/raw/t10k-images-idx3-ubyte.gz\n",
            "Downloading http://yann.lecun.com/exdb/mnist/t10k-labels-idx1-ubyte.gz to .data/mnist/MNIST/raw/t10k-labels-idx1-ubyte.gz\n",
            "8192it [00:00, 185436.63it/s]\n",
            "Extracting .data/mnist/MNIST/raw/t10k-labels-idx1-ubyte.gz\n",
            "Processing...\n",
            "Done!\n",
            "Epoch 0000 | Time 0.595 (0.595) | NFE-F 32.0 | NFE-B 0.0 | Train Acc 0.1141 | Test Acc 0.1157\n",
            "Epoch 0001 | Time 0.323 (0.230) | NFE-F 20.3 | NFE-B 0.0 | Train Acc 0.9646 | Test Acc 0.9669\n",
            "Epoch 0002 | Time 0.313 (0.226) | NFE-F 20.1 | NFE-B 0.0 | Train Acc 0.9895 | Test Acc 0.9900\n",
            "Exception ignored in: <bound method Image.__del__ of <PIL.Image.Image image mode=L size=28x28 at 0x7FF1F7434208>>\n",
            "Traceback (most recent call last):\n",
            "  File \"/usr/local/lib/python3.6/dist-packages/PIL/Image.py\", line 569, in __del__\n",
            "    if (hasattr(self, 'fp') and hasattr(self, '_exclusive_fp') \n",
            "KeyboardInterrupt: \n",
            "Traceback (most recent call last):\n",
            "  File \"odenet_mnist.py\", line 341, in <module>\n",
            "    x = x.to(device)\n",
            "KeyboardInterrupt\n"
          ],
          "name": "stdout"
        }
      ]
    },
    {
      "metadata": {
        "id": "sFGMAPvRhktd",
        "colab_type": "code",
        "colab": {
          "base_uri": "https://localhost:8080/",
          "height": 34
        },
        "outputId": "16ef8c12-3519-4348-d417-30e8c07454b3"
      },
      "cell_type": "code",
      "source": [
        "!ls"
      ],
      "execution_count": 8,
      "outputs": [
        {
          "output_type": "stream",
          "text": [
            "latent_ode.py  ode_demo.py  odenet_mnist.py  README.md\n"
          ],
          "name": "stdout"
        }
      ]
    },
    {
      "metadata": {
        "id": "5u8UTSBjiFlk",
        "colab_type": "code",
        "colab": {
          "base_uri": "https://localhost:8080/",
          "height": 34
        },
        "outputId": "958051b8-eaba-4e27-e8ee-d2836e70e5fd"
      },
      "cell_type": "code",
      "source": [
        "!pwd"
      ],
      "execution_count": 3,
      "outputs": [
        {
          "output_type": "stream",
          "text": [
            "/content\n"
          ],
          "name": "stdout"
        }
      ]
    },
    {
      "metadata": {
        "id": "Kew5EjGYiGsK",
        "colab_type": "code",
        "colab": {}
      },
      "cell_type": "code",
      "source": [
        ""
      ],
      "execution_count": 0,
      "outputs": []
    }
  ]
}