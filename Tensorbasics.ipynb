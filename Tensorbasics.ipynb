{
  "nbformat": 4,
  "nbformat_minor": 0,
  "metadata": {
    "colab": {
      "name": "Tensorbasics.ipynb",
      "version": "0.3.2",
      "provenance": [],
      "collapsed_sections": []
    },
    "kernelspec": {
      "name": "python3",
      "display_name": "Python 3"
    }
  },
  "cells": [
    {
      "metadata": {
        "id": "EfKJ_ZGmWZtF",
        "colab_type": "code",
        "colab": {
          "base_uri": "https://localhost:8080/",
          "height": 105
        },
        "outputId": "e190bf7a-1c6c-496b-ec53-c857c3b5ea38"
      },
      "cell_type": "code",
      "source": [
        "import tensorflow as tf\n",
        "a = tf.add(1,2, name=\"addition_1\")\n",
        "b = tf.multiply(a,3, name =\"multipying_1\")\n",
        "c = tf.add(4,5, name=\"addition_2\")\n",
        "d = tf.multiply(c,6, name =\"multipying_2\")\n",
        "e = tf.multiply(4,5, name =\"multipying_3\")\n",
        "f = tf.div(c,6, name =\"division_1\")\n",
        "\n",
        "g = tf.add(b,d, name=\"addition_3\")\n",
        "h = tf.multiply(g,f, name =\"multipying_4\")\n",
        "\n",
        "with tf.Session() as sess:\n",
        "  writer = tf.summary.FileWriter(\"./logs\", sess.graph)\n",
        "  print(sess.run(h))\n",
        "  writer.close()"
      ],
      "execution_count": 1,
      "outputs": [
        {
          "output_type": "stream",
          "text": [
            "WARNING:tensorflow:From <ipython-input-1-67b2e0719ca2>:7: div (from tensorflow.python.ops.math_ops) is deprecated and will be removed in a future version.\n",
            "Instructions for updating:\n",
            "Deprecated in favor of operator or tf.math.divide.\n",
            "63\n"
          ],
          "name": "stdout"
        }
      ]
    },
    {
      "metadata": {
        "id": "S7g9d8L6ZG-l",
        "colab_type": "code",
        "colab": {
          "base_uri": "https://localhost:8080/",
          "height": 105
        },
        "outputId": "7fb3bfa0-5961-4b32-8fc7-0a07fc078521"
      },
      "cell_type": "code",
      "source": [
        "import tensorflow as tf\n",
        "\n",
        "with tf.name_scope(\"My_Graph\"):\n",
        "  with tf.name_scope(\"Scope_1\"):\n",
        "    a = tf.add(1,2, name=\"addition_1\")\n",
        "    b = tf.multiply(a,3, name =\"multipying_1\")\n",
        "  with tf.name_scope(\"Scope_2\"):\n",
        "    c = tf.add(4,5, name=\"addition_2\")\n",
        "    d = tf.multiply(c,6, name =\"multipying_2\")\n",
        "with tf.name_scope(\"Scope_3\"):\n",
        "  e = tf.multiply(4,5)\n",
        "  f = tf.div(c,6, name =\"division\")\n",
        "\n",
        "g = tf.add(b,d)\n",
        "h = tf.multiply(g,f)\n",
        "\n",
        "with tf.Session() as sess:\n",
        "  writer = tf.summary.FileWriter(\"./logs\", sess.graph)\n",
        "  print(sess.run(h))\n",
        "  writer.close()"
      ],
      "execution_count": 1,
      "outputs": [
        {
          "output_type": "stream",
          "text": [
            "WARNING:tensorflow:From <ipython-input-1-bd30fdb9ee33>:12: div (from tensorflow.python.ops.math_ops) is deprecated and will be removed in a future version.\n",
            "Instructions for updating:\n",
            "Deprecated in favor of operator or tf.math.divide.\n",
            "63\n"
          ],
          "name": "stdout"
        }
      ]
    },
    {
      "metadata": {
        "id": "3ZUc2FGgaZjz",
        "colab_type": "code",
        "colab": {
          "base_uri": "https://localhost:8080/",
          "height": 88
        },
        "outputId": "38a6baf4-ec90-42d0-976b-a57e684cd401"
      },
      "cell_type": "code",
      "source": [
        "import tensorflow as tf\n",
        "tf.reset_default_graph()\n",
        "\n",
        "s_scalar = tf.get_variable(name='s_scalar', shape=[], initializer=tf.truncated_normal_initializer(mean=0, stddev=1))\n",
        "first_summary = tf.summary.scalar(name='First_summary',tensor=s_scalar)\n",
        "\n",
        "init = tf.global_variables_initializer()\n",
        "\n",
        "with tf.Session() as sess:\n",
        "  writer = tf.summary.FileWriter('./logs', sess.graph)\n",
        "  for i in range(100):\n",
        "    sess.run(init)\n",
        "    summary = sess.run(first_summary)\n",
        "    writer.add_summary(summary,i)"
      ],
      "execution_count": 1,
      "outputs": [
        {
          "output_type": "stream",
          "text": [
            "WARNING:tensorflow:From /usr/local/lib/python3.6/dist-packages/tensorflow/python/framework/op_def_library.py:263: colocate_with (from tensorflow.python.framework.ops) is deprecated and will be removed in a future version.\n",
            "Instructions for updating:\n",
            "Colocations handled automatically by placer.\n"
          ],
          "name": "stdout"
        }
      ]
    },
    {
      "metadata": {
        "id": "BMivDI_EcBHe",
        "colab_type": "code",
        "colab": {}
      },
      "cell_type": "code",
      "source": [
        "import tensorflow as tf\n",
        "tf.reset_default_graph()\n",
        "\n",
        "s_scalar = tf.get_variable(name='s_scalar', shape=[], initializer=tf.truncated_normal_initializer(mean=0, stddev=1))\n",
        "y_matrix = tf.get_variable(name='y_matrix', shape=[40, 50], initializer=tf.truncated_normal_initializer(mean=0, stddev=1))\n",
        "first_summary = tf.summary.scalar(name='First_summary', tensor = s_scalar)\n",
        "histogram_summary = tf.summary.histogram(name='histogram_summary', values=y_matrix)\n",
        "init = tf.global_variables_initializer()\n",
        "\n",
        "with tf.Session() as sess:\n",
        "  writer = tf.summary.FileWriter('./logs', sess.graph)\n",
        "  for i in range(100):\n",
        "    sess.run(init)\n",
        "    summary1, summary2 = sess.run([first_summary, histogram_summary])\n",
        "    writer.add_summary(summary1,i)\n",
        "    writer.add_summary(summary2,i)"
      ],
      "execution_count": 0,
      "outputs": []
    },
    {
      "metadata": {
        "id": "peUesf7ztJa4",
        "colab_type": "code",
        "colab": {
          "base_uri": "https://localhost:8080/",
          "height": 347
        },
        "outputId": "2b6222fa-852c-49a4-992e-eae3fc94ead8"
      },
      "cell_type": "code",
      "source": [
        "import numpy as np\n",
        "import tensorflow as tf\n",
        "import matplotlib.pyplot as plt\n",
        "\n",
        "learning_parameter = 0.01\n",
        "epoch = 300\n",
        "nsamples = 50\n",
        "x_train = np.linspace(0,30,nsamples)\n",
        "y_train = 6*x_train+7*np.random.randn(nsamples)\n",
        "\n",
        "plt.plot(x_train, y_train, 'o')\n",
        "plt.plot(x_train, 6*x_train)\n",
        "plt.show()"
      ],
      "execution_count": 3,
      "outputs": [
        {
          "output_type": "display_data",
          "data": {
            "image/png": "[encoded data removed]",
            "text/plain": [
              "<Figure size 576x396 with 1 Axes>"
            ]
          },
          "metadata": {
            "tags": []
          }
        }
      ]
    },
    {
      "metadata": {
        "id": "Kq3nzgEH3gFP",
        "colab_type": "code",
        "colab": {
          "base_uri": "https://localhost:8080/",
          "height": 139
        },
        "outputId": "702f0716-2931-4574-92c6-9fecbcdacb53"
      },
      "cell_type": "code",
      "source": [
        "import numpy as np\n",
        "import tensorflow as tf\n",
        "import matplotlib.pyplot as plt\n",
        "\n",
        "learning_parameter = 0.01\n",
        "epochs = 300\n",
        "nsamples = 50\n",
        "\n",
        "x_train = np.linspace(0,30,nsamples)\n",
        "y_train = 6*x_train+7*np.random.randn(nsamples)\n",
        "\n",
        "Y = tf.placeholder(tf.float32)\n",
        "X = tf.placeholder(tf.float32)\n",
        "\n",
        "W = tf.Variable(np.random.randn(),name='weights')\n",
        "B = tf.Variable(np.random.randn(),name='bias')\n",
        "\n",
        "with tf.name_scope(\"Model\") as scope:\n",
        "  pred = W*X+B\n",
        "  \n",
        "weight_histogram = tf.summary.histogram(\"Weights\", W)\n",
        "bias_histogram = tf.summary.histogram(\"Bias\",B)\n",
        "\n",
        "with tf.name_scope(\"Cost_function\") as scope:\n",
        "  cost_iteration =tf.reduce_sum((pred-Y)**2)/(2*nsamples)\n",
        "\n",
        "cost_summary = tf.summary.scalar(\"Cost\",cost_iteration)\n",
        "\n",
        "with tf.name_scope(\"Training\") as scope:\n",
        "  optimizer = tf.train.GradientDescentOptimizer(learning_parameter).minimize(cost_iteration)\n",
        "\n",
        "init = tf.global_variables_initializer()\n",
        "\n",
        "merged_summary = tf.summary.merge_all()\n",
        "\n"
      ],
      "execution_count": 1,
      "outputs": [
        {
          "output_type": "stream",
          "text": [
            "WARNING:tensorflow:From /usr/local/lib/python3.6/dist-packages/tensorflow/python/framework/op_def_library.py:263: colocate_with (from tensorflow.python.framework.ops) is deprecated and will be removed in a future version.\n",
            "Instructions for updating:\n",
            "Colocations handled automatically by placer.\n",
            "WARNING:tensorflow:From /usr/local/lib/python3.6/dist-packages/tensorflow/python/ops/math_ops.py:3066: to_int32 (from tensorflow.python.ops.math_ops) is deprecated and will be removed in a future version.\n",
            "Instructions for updating:\n",
            "Use tf.cast instead.\n"
          ],
          "name": "stdout"
        }
      ]
    },
    {
      "metadata": {
        "id": "IinnNX7WCw_P",
        "colab_type": "code",
        "colab": {
          "base_uri": "https://localhost:8080/",
          "height": 483
        },
        "outputId": "8cdab2a8-709b-488d-9847-f0f4ceb38b96"
      },
      "cell_type": "code",
      "source": [
        "with tf.Session() as sess:\n",
        "  sess.run(init)\n",
        "  writer = tf.summary.FileWriter('./log',sess.graph)\n",
        "  \n",
        "  for epoch in range(epochs):\n",
        "    for x,y in zip(x_train,y_train):\n",
        "      sess.run(optimizer, feed_dict = {X : x, Y : y})\n",
        "      \n",
        "      summary_epochs = sess.run(merged_summary, feed_dict = {X:x, Y:y})\n",
        "      writer.add_summary(summary_epochs, epoch)\n",
        "      \n",
        "    if not epoch%40:\n",
        "      W1 = sess.run(W)\n",
        "      B1 = sess.run(B)\n",
        "      cost_iter = sess.run(cost_iteration, feed_dict={X:x, Y:y})\n",
        "      print('Epochs %f Cost %f Weight %f Bias %f' %(epoch, cost_iter, W1, B1))\n",
        "      \n",
        "  Weight = sess.run(W)\n",
        "  Bias = sess.run(B)\n",
        "  \n",
        "  plt.plot(x_train, y_train, 'o')\n",
        "  plt.plot(x_train,Weight*x_train+Bias)\n",
        "  plt.show()"
      ],
      "execution_count": 2,
      "outputs": [
        {
          "output_type": "stream",
          "text": [
            "Epochs 0.000000 Cost 0.366044 Weight 5.628654 Bias 1.444636\n",
            "Epochs 40.000000 Cost 0.007125 Weight 5.850484 Bias 1.684015\n",
            "Epochs 80.000000 Cost 0.006609 Weight 5.842683 Bias 1.886869\n",
            "Epochs 120.000000 Cost 0.006157 Weight 5.835618 Bias 2.070560\n",
            "Epochs 160.000000 Cost 0.005762 Weight 5.829221 Bias 2.236898\n",
            "Epochs 200.000000 Cost 0.005416 Weight 5.823428 Bias 2.387521\n",
            "Epochs 240.000000 Cost 0.005111 Weight 5.818182 Bias 2.523918\n",
            "Epochs 280.000000 Cost 0.004844 Weight 5.813432 Bias 2.647423\n"
          ],
          "name": "stdout"
        },
        {
          "output_type": "display_data",
          "data": {
            "image/png": "[encoded data removed]",
            "text/plain": [
              "<Figure size 576x396 with 1 Axes>"
            ]
          },
          "metadata": {
            "tags": []
          }
        }
      ]
    }
  ]
}