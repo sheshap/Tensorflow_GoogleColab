{
  "nbformat": 4,
  "nbformat_minor": 0,
  "metadata": {
    "colab": {
      "name": "MNISTTensorflow.ipynb",
      "version": "0.3.2",
      "provenance": []
    },
    "kernelspec": {
      "name": "python3",
      "display_name": "Python 3"
    },
    "accelerator": "GPU"
  },
  "cells": [
    {
      "metadata": {
        "id": "n_ATLYmNiRIJ",
        "colab_type": "code",
        "colab": {}
      },
      "cell_type": "code",
      "source": [
        "import cv2\n",
        "import matplotlib.pyplot as plt\n",
        "import numpy as np\n",
        "import tensorflow as tf"
      ],
      "execution_count": 0,
      "outputs": []
    },
    {
      "metadata": {
        "id": "Lus6E5GEicQU",
        "colab_type": "code",
        "colab": {}
      },
      "cell_type": "code",
      "source": [
        "n_input =  784\n",
        "n_hidden_1 = 512\n",
        "n_hidden_2 = 256\n",
        "n_hidden_3 = 128\n",
        "n_output = 10"
      ],
      "execution_count": 0,
      "outputs": []
    },
    {
      "metadata": {
        "id": "ZV4CTehoin6y",
        "colab_type": "code",
        "colab": {
          "base_uri": "https://localhost:8080/",
          "height": 530
        },
        "outputId": "a0da540f-2515-47e2-cc29-db3b75ab2daf"
      },
      "cell_type": "code",
      "source": [
        "from tensorflow.examples.tutorials.mnist import input_data\n",
        "mnist_data = input_data.read_data_sets(\"./data\", one_hot = True)"
      ],
      "execution_count": 5,
      "outputs": [
        {
          "output_type": "stream",
          "text": [
            "WARNING:tensorflow:From <ipython-input-5-4cf8105ac99b>:2: read_data_sets (from tensorflow.contrib.learn.python.learn.datasets.mnist) is deprecated and will be removed in a future version.\n",
            "Instructions for updating:\n",
            "Please use alternatives such as official/mnist/dataset.py from tensorflow/models.\n",
            "WARNING:tensorflow:From /usr/local/lib/python3.6/dist-packages/tensorflow/contrib/learn/python/learn/datasets/mnist.py:260: maybe_download (from tensorflow.contrib.learn.python.learn.datasets.base) is deprecated and will be removed in a future version.\n",
            "Instructions for updating:\n",
            "Please write your own downloading logic.\n",
            "WARNING:tensorflow:From /usr/local/lib/python3.6/dist-packages/tensorflow/contrib/learn/python/learn/datasets/base.py:252: _internal_retry.<locals>.wrap.<locals>.wrapped_fn (from tensorflow.contrib.learn.python.learn.datasets.base) is deprecated and will be removed in a future version.\n",
            "Instructions for updating:\n",
            "Please use urllib or similar directly.\n",
            "Successfully downloaded train-images-idx3-ubyte.gz 9912422 bytes.\n",
            "WARNING:tensorflow:From /usr/local/lib/python3.6/dist-packages/tensorflow/contrib/learn/python/learn/datasets/mnist.py:262: extract_images (from tensorflow.contrib.learn.python.learn.datasets.mnist) is deprecated and will be removed in a future version.\n",
            "Instructions for updating:\n",
            "Please use tf.data to implement this functionality.\n",
            "Extracting ./data/train-images-idx3-ubyte.gz\n",
            "Successfully downloaded train-labels-idx1-ubyte.gz 28881 bytes.\n",
            "WARNING:tensorflow:From /usr/local/lib/python3.6/dist-packages/tensorflow/contrib/learn/python/learn/datasets/mnist.py:267: extract_labels (from tensorflow.contrib.learn.python.learn.datasets.mnist) is deprecated and will be removed in a future version.\n",
            "Instructions for updating:\n",
            "Please use tf.data to implement this functionality.\n",
            "Extracting ./data/train-labels-idx1-ubyte.gz\n",
            "WARNING:tensorflow:From /usr/local/lib/python3.6/dist-packages/tensorflow/contrib/learn/python/learn/datasets/mnist.py:110: dense_to_one_hot (from tensorflow.contrib.learn.python.learn.datasets.mnist) is deprecated and will be removed in a future version.\n",
            "Instructions for updating:\n",
            "Please use tf.one_hot on tensors.\n",
            "Successfully downloaded t10k-images-idx3-ubyte.gz 1648877 bytes.\n",
            "Extracting ./data/t10k-images-idx3-ubyte.gz\n",
            "Successfully downloaded t10k-labels-idx1-ubyte.gz 4542 bytes.\n",
            "Extracting ./data/t10k-labels-idx1-ubyte.gz\n",
            "WARNING:tensorflow:From /usr/local/lib/python3.6/dist-packages/tensorflow/contrib/learn/python/learn/datasets/mnist.py:290: DataSet.__init__ (from tensorflow.contrib.learn.python.learn.datasets.mnist) is deprecated and will be removed in a future version.\n",
            "Instructions for updating:\n",
            "Please use alternatives such as official/mnist/dataset.py from tensorflow/models.\n"
          ],
          "name": "stdout"
        }
      ]
    },
    {
      "metadata": {
        "id": "42vFa4Z_i-kv",
        "colab_type": "code",
        "colab": {
          "base_uri": "https://localhost:8080/",
          "height": 34
        },
        "outputId": "ba809858-4253-4eb2-aa6c-858481264689"
      },
      "cell_type": "code",
      "source": [
        "!ls"
      ],
      "execution_count": 6,
      "outputs": [
        {
          "output_type": "stream",
          "text": [
            "data  sample_data\n"
          ],
          "name": "stdout"
        }
      ]
    },
    {
      "metadata": {
        "id": "c0YQlp_0jDrW",
        "colab_type": "code",
        "colab": {
          "base_uri": "https://localhost:8080/",
          "height": 54
        },
        "outputId": "5744b799-52d5-4a26-fe73-5b309634982d"
      },
      "cell_type": "code",
      "source": [
        "num_training = mnist_data.train.num_examples\n",
        "num_testing = mnist_data.test.num_examples\n",
        "num_validation = mnist_data.validation.num_examples\n",
        "print(\"MNIST Datasize: training sample: {0}, Testing samples: {1}, Valdiation samples{2}\",num_training, num_testing, num_validation)"
      ],
      "execution_count": 7,
      "outputs": [
        {
          "output_type": "stream",
          "text": [
            "MNIST Datasize: training sample: {0}, Testing samples: {1}, Valdiation samples{2} 55000 10000 5000\n"
          ],
          "name": "stdout"
        }
      ]
    },
    {
      "metadata": {
        "id": "XCX6XvqljidS",
        "colab_type": "code",
        "colab": {}
      },
      "cell_type": "code",
      "source": [
        "learning_rate = 1e-4\n",
        "epochs = 3000\n",
        "batch_size = 128\n",
        "keep_prob = tf.placeholder(tf.float32)"
      ],
      "execution_count": 0,
      "outputs": []
    },
    {
      "metadata": {
        "id": "57roMR38jv64",
        "colab_type": "code",
        "colab": {}
      },
      "cell_type": "code",
      "source": [
        "X = tf.placeholder(tf.float32, [None, n_input])\n",
        "Y = tf.placeholder(tf.float32, [None, n_output])"
      ],
      "execution_count": 0,
      "outputs": []
    },
    {
      "metadata": {
        "id": "yfhQFHwXj9Ud",
        "colab_type": "code",
        "colab": {
          "base_uri": "https://localhost:8080/",
          "height": 88
        },
        "outputId": "9fec6983-dff7-4bac-90f6-a803b8f5a25e"
      },
      "cell_type": "code",
      "source": [
        "nn_weight = {\"W1\": tf.Variable(tf.truncated_normal([n_input, n_hidden_1], stddev=0.1)),\n",
        "              \"W2\": tf.Variable(tf.truncated_normal([n_hidden_1, n_hidden_2], stddev=0.1)),\n",
        "              \"W3\": tf.Variable(tf.truncated_normal([n_hidden_2, n_hidden_3], stddev=0.1)),\n",
        "              \"Wout\": tf.Variable(tf.truncated_normal([n_hidden_3, n_output], stddev=0.1))\n",
        "            }\n",
        "nn_bias = { \"B1\": tf.Variable(tf.truncated_normal([n_hidden_1])),\n",
        "            \"B2\": tf.Variable(tf.truncated_normal([n_hidden_2])),\n",
        "            \"B3\": tf.Variable(tf.truncated_normal([n_hidden_3])),\n",
        "            \"B4\": tf.Variable(tf.truncated_normal([n_output]))\n",
        "          }"
      ],
      "execution_count": 10,
      "outputs": [
        {
          "output_type": "stream",
          "text": [
            "WARNING:tensorflow:From /usr/local/lib/python3.6/dist-packages/tensorflow/python/framework/op_def_library.py:263: colocate_with (from tensorflow.python.framework.ops) is deprecated and will be removed in a future version.\n",
            "Instructions for updating:\n",
            "Colocations handled automatically by placer.\n"
          ],
          "name": "stdout"
        }
      ]
    },
    {
      "metadata": {
        "id": "tzeOIp7Rk8HU",
        "colab_type": "code",
        "colab": {
          "base_uri": "https://localhost:8080/",
          "height": 88
        },
        "outputId": "7c34636d-1ec8-4d71-df67-80aa5b475d1d"
      },
      "cell_type": "code",
      "source": [
        "nn_layer_1 = tf.add(tf.matmul(X, nn_weight[\"W1\"]), nn_bias[\"B1\"])\n",
        "nn_layer_2 = tf.add(tf.matmul(nn_layer_1, nn_weight[\"W2\"]), nn_bias[\"B2\"])\n",
        "nn_layer_3 = tf.add(tf.matmul(nn_layer_2, nn_weight[\"W3\"]), nn_bias[\"B3\"])\n",
        "layer_drop = tf.nn.dropout(nn_layer_3, keep_prob)\n",
        "output_layer = tf.add(tf.matmul(layer_drop, nn_weight[\"Wout\"]), nn_bias[\"B4\"])"
      ],
      "execution_count": 11,
      "outputs": [
        {
          "output_type": "stream",
          "text": [
            "WARNING:tensorflow:From <ipython-input-11-64825a4b9b84>:4: calling dropout (from tensorflow.python.ops.nn_ops) with keep_prob is deprecated and will be removed in a future version.\n",
            "Instructions for updating:\n",
            "Please use `rate` instead of `keep_prob`. Rate should be set to `rate = 1 - keep_prob`.\n"
          ],
          "name": "stdout"
        }
      ]
    },
    {
      "metadata": {
        "id": "JlfzHLu3mN0K",
        "colab_type": "code",
        "colab": {}
      },
      "cell_type": "code",
      "source": [
        "computed_loss = tf.reduce_mean(tf.nn.softmax_cross_entropy_with_logits_v2(logits=output_layer, labels=Y))\n",
        "optimizer = tf.train.GradientDescentOptimizer(learning_rate = learning_rate).minimize(computed_loss)\n",
        "prediction_out =  tf.equal(tf.argmax(output_layer,1),tf.argmax(Y,1))\n",
        "nn_accuracy = tf.reduce_mean(tf.cast(prediction_out, tf.float32))\n",
        "init = tf.global_variables_initializer()\n",
        "saver = tf.train.Saver()"
      ],
      "execution_count": 0,
      "outputs": []
    },
    {
      "metadata": {
        "id": "2ObqKH96nS84",
        "colab_type": "code",
        "colab": {
          "base_uri": "https://localhost:8080/",
          "height": 581
        },
        "outputId": "ac987606-4562-4784-de8b-216f336c8682"
      },
      "cell_type": "code",
      "source": [
        "with tf.Session() as sess:\n",
        "  sess.run(init)\n",
        "  for i in range(epochs):\n",
        "    mini_batch_x, mini_batch_y =  mnist_data.train.next_batch(batch_size)\n",
        "    mini_batch_val_x, mini_batch_val_y = mnist_data.validation.next_batch(batch_size)\n",
        "    sess.run(optimizer, feed_dict={X:mini_batch_x, Y:mini_batch_y, keep_prob:1})\n",
        "    if i%100 ==0:\n",
        "      mini_batch_loss, mini_batch_accuracy =  sess.run([computed_loss, nn_accuracy], feed_dict = {X:mini_batch_x, Y: mini_batch_y, keep_prob:1})\n",
        "      mini_batch_val_loss, mini_batch_val_accuracy =  sess.run([computed_loss, nn_accuracy], feed_dict = {X:mini_batch_val_x, Y: mini_batch_val_y, keep_prob:1})\n",
        "      print(\"Iterations : {0}, Train_loss = {1}, Train_accuracy:{2}, val_loss:{3}, val_accuracy{4}\".format(i,mini_batch_loss, mini_batch_accuracy, mini_batch_val_loss, mini_batch_val_accuracy))\n",
        "      \n",
        "  print(\"Optimiztion Finished\")\n",
        "  test_accuracy =  sess.run(nn_accuracy, feed_dict = {X:mnist_data.test.images, Y:mnist_data.test.labels, keep_prob:1})\n",
        "  print(\"testing accuracy is {0}\".format(test_accuracy))\n",
        "  \n",
        "  saver_path = saver.save(sess,\"./model/my_model.ckpt\")"
      ],
      "execution_count": 13,
      "outputs": [
        {
          "output_type": "stream",
          "text": [
            "Iterations : 0, Train_loss = 4.858034133911133, Train_accuracy:0.1953125, val_loss:5.318384170532227, val_accuracy0.09375\n",
            "Iterations : 100, Train_loss = 3.1485776901245117, Train_accuracy:0.125, val_loss:3.0139718055725098, val_accuracy0.1640625\n",
            "Iterations : 200, Train_loss = 2.6732873916625977, Train_accuracy:0.203125, val_loss:3.0964150428771973, val_accuracy0.1484375\n",
            "Iterations : 300, Train_loss = 2.292391538619995, Train_accuracy:0.25, val_loss:2.7782974243164062, val_accuracy0.15625\n",
            "Iterations : 400, Train_loss = 2.3696913719177246, Train_accuracy:0.234375, val_loss:2.3481383323669434, val_accuracy0.234375\n",
            "Iterations : 500, Train_loss = 2.217371702194214, Train_accuracy:0.3046875, val_loss:2.002077102661133, val_accuracy0.390625\n",
            "Iterations : 600, Train_loss = 1.626173973083496, Train_accuracy:0.46875, val_loss:1.960902214050293, val_accuracy0.328125\n",
            "Iterations : 700, Train_loss = 1.6590334177017212, Train_accuracy:0.4375, val_loss:1.821624755859375, val_accuracy0.4375\n",
            "Iterations : 800, Train_loss = 1.6600927114486694, Train_accuracy:0.40625, val_loss:1.787115454673767, val_accuracy0.3671875\n",
            "Iterations : 900, Train_loss = 1.6074072122573853, Train_accuracy:0.4453125, val_loss:1.5683155059814453, val_accuracy0.453125\n",
            "Iterations : 1000, Train_loss = 1.4126088619232178, Train_accuracy:0.578125, val_loss:1.4517531394958496, val_accuracy0.4765625\n",
            "Iterations : 1100, Train_loss = 1.3910400867462158, Train_accuracy:0.5390625, val_loss:1.5103833675384521, val_accuracy0.5\n",
            "Iterations : 1200, Train_loss = 1.2750060558319092, Train_accuracy:0.5703125, val_loss:1.3490334749221802, val_accuracy0.5859375\n",
            "Iterations : 1300, Train_loss = 1.2709985971450806, Train_accuracy:0.6171875, val_loss:1.3236424922943115, val_accuracy0.53125\n",
            "Iterations : 1400, Train_loss = 1.288810133934021, Train_accuracy:0.5859375, val_loss:1.3714996576309204, val_accuracy0.5859375\n",
            "Iterations : 1500, Train_loss = 1.324174165725708, Train_accuracy:0.5625, val_loss:1.1054372787475586, val_accuracy0.5859375\n",
            "Iterations : 1600, Train_loss = 1.1397666931152344, Train_accuracy:0.671875, val_loss:1.2169158458709717, val_accuracy0.6015625\n",
            "Iterations : 1700, Train_loss = 1.1651815176010132, Train_accuracy:0.65625, val_loss:1.0474542379379272, val_accuracy0.6171875\n",
            "Iterations : 1800, Train_loss = 1.1045515537261963, Train_accuracy:0.6953125, val_loss:1.0799219608306885, val_accuracy0.640625\n",
            "Iterations : 1900, Train_loss = 1.2970528602600098, Train_accuracy:0.59375, val_loss:1.0134254693984985, val_accuracy0.71875\n",
            "Iterations : 2000, Train_loss = 1.2237458229064941, Train_accuracy:0.578125, val_loss:1.0867232084274292, val_accuracy0.59375\n",
            "Iterations : 2100, Train_loss = 0.914978563785553, Train_accuracy:0.7734375, val_loss:1.0480482578277588, val_accuracy0.6484375\n",
            "Iterations : 2200, Train_loss = 0.8125221729278564, Train_accuracy:0.75, val_loss:0.9180025458335876, val_accuracy0.703125\n",
            "Iterations : 2300, Train_loss = 0.8970106840133667, Train_accuracy:0.734375, val_loss:0.9210251569747925, val_accuracy0.6640625\n",
            "Iterations : 2400, Train_loss = 0.89092618227005, Train_accuracy:0.6953125, val_loss:1.040459394454956, val_accuracy0.6484375\n",
            "Iterations : 2500, Train_loss = 1.0295310020446777, Train_accuracy:0.640625, val_loss:0.9512661695480347, val_accuracy0.734375\n",
            "Iterations : 2600, Train_loss = 0.7873182892799377, Train_accuracy:0.734375, val_loss:0.9393565654754639, val_accuracy0.6640625\n",
            "Iterations : 2700, Train_loss = 1.054856777191162, Train_accuracy:0.71875, val_loss:1.0253269672393799, val_accuracy0.6484375\n",
            "Iterations : 2800, Train_loss = 0.9543354511260986, Train_accuracy:0.71875, val_loss:0.8147560954093933, val_accuracy0.734375\n",
            "Iterations : 2900, Train_loss = 0.7672893404960632, Train_accuracy:0.75, val_loss:0.8496053814888, val_accuracy0.7578125\n",
            "Optimiztion Finished\n",
            "testing accuracy is 0.7365999817848206\n"
          ],
          "name": "stdout"
        }
      ]
    },
    {
      "metadata": {
        "id": "TSgWtZc2qyaJ",
        "colab_type": "code",
        "colab": {
          "base_uri": "https://localhost:8080/",
          "height": 34
        },
        "outputId": "9bbd6234-7437-408d-85b1-c0f25980b3de"
      },
      "cell_type": "code",
      "source": [
        "!ls"
      ],
      "execution_count": 14,
      "outputs": [
        {
          "output_type": "stream",
          "text": [
            "data  model  sample_data\n"
          ],
          "name": "stdout"
        }
      ]
    },
    {
      "metadata": {
        "id": "AruagPtfw2yq",
        "colab_type": "code",
        "colab": {
          "base_uri": "https://localhost:8080/",
          "height": 34
        },
        "outputId": "e76c2ac7-4500-47e6-ca3e-b078e8ec8e27"
      },
      "cell_type": "code",
      "source": [
        "!pwd"
      ],
      "execution_count": 16,
      "outputs": [
        {
          "output_type": "stream",
          "text": [
            "/content\n"
          ],
          "name": "stdout"
        }
      ]
    },
    {
      "metadata": {
        "id": "tkU4HTMsw4JN",
        "colab_type": "code",
        "colab": {
          "base_uri": "https://localhost:8080/",
          "height": 381
        },
        "outputId": "8aed3dfb-3bd5-4d1f-e41c-a2731f9a7d63"
      },
      "cell_type": "code",
      "source": [
        "img = cv2.imread(\"6.jpeg\")\n",
        "gray_image = cv2.cvtColor(img, cv2.COLOR_BGR2GRAY)\n",
        "\n",
        "rescaled_image = cv2.resize(gray_image, (28,28))\n",
        "plt.imshow(rescaled_image, cmap='gray')\n",
        "plt.show()\n",
        "rescaled_image.shape\n",
        "\n",
        "dum = rescaled_image.reshape(1,-1)/255\n",
        "dum.shape\n",
        "\n",
        "with tf.Session() as sess:\n",
        "  saver.restore(sess, \"./model/my_model.ckpt\")\n",
        "  Z =  output_layer.eval(feed_dict={X:dum, keep_prob:1.0})\n",
        "  y_pred = np.argmax(Z, axis=1)\n",
        "  print(\"Prediction for test image is {0}\".format(y_pred))"
      ],
      "execution_count": 23,
      "outputs": [
        {
          "output_type": "display_data",
          "data": {
            "image/png": "[encoded data removed]",
            "text/plain": [
              "<Figure size 576x396 with 1 Axes>"
            ]
          },
          "metadata": {
            "tags": []
          }
        },
        {
          "output_type": "stream",
          "text": [
            "INFO:tensorflow:Restoring parameters from ./model/my_model.ckpt\n",
            "Prediction for test image is [4]\n"
          ],
          "name": "stdout"
        }
      ]
    }
  ]
}